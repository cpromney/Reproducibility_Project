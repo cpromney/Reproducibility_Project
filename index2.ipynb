{
 "cells": [
  {
   "cell_type": "code",
   "execution_count": 1,
   "metadata": {},
   "outputs": [
    {
     "name": "stderr",
     "output_type": "stream",
     "text": [
      "── Attaching packages ─────────────────────────────────────── tidyverse 1.2.1 ──\n",
      "✔ ggplot2 2.2.1     ✔ purrr   0.2.4\n",
      "✔ tibble  1.4.2     ✔ dplyr   0.7.4\n",
      "✔ tidyr   0.8.0     ✔ stringr 1.3.1\n",
      "✔ readr   1.1.1     ✔ forcats 0.2.0\n",
      "── Conflicts ────────────────────────────────────────── tidyverse_conflicts() ──\n",
      "✖ dplyr::filter() masks stats::filter()\n",
      "✖ dplyr::lag()    masks stats::lag()\n"
     ]
    },
    {
     "ename": "ERROR",
     "evalue": "Error in sheets_fun(path): Evaluation error: zip file '/home/jovyan/Reproducibility_Project/journal.pone.0200438.s004.xlsx' cannot be opened.\n",
     "output_type": "error",
     "traceback": [
      "Error in sheets_fun(path): Evaluation error: zip file '/home/jovyan/Reproducibility_Project/journal.pone.0200438.s004.xlsx' cannot be opened.\nTraceback:\n",
      "1. read_excel(\"~/Reproducibility_Project/journal.pone.0200438.s004.xlsx\", \n .     sheet = \"Richness feeding guild\")",
      "2. read_excel_(path = path, sheet = sheet, range = range, col_names = col_names, \n .     col_types = col_types, na = na, trim_ws = trim_ws, skip = skip, \n .     n_max = n_max, guess_max = guess_max, excel_format(path))",
      "3. standardise_sheet(sheet, range, sheets_fun(path))",
      "4. sheet %in% sheet_names",
      "5. sheets_fun(path)"
     ]
    }
   ],
   "source": [
    "library(readxl)\n",
    "library(tidyverse)\n",
    "\n",
    "allData = read_excel(\"journal.pone.0200438.s004.xlsx\", sheet = \"Richness feeding guild\")\n",
    "\n",
    "ggplot(data = allData, aes(x=LandHet, y=`species richness`, col=`feeding guild`, linetype=`feeding guild`, fill=`feeding guild`)) +\n",
    "  geom_smooth(method=lm, se=TRUE) +\n",
    "  guides(fill=FALSE) +\n",
    "  scale_color_manual(name=\"Feeding Guild\", values=c(Carnivore=\"yellow\", \n",
    "              Granivore=\"red\", Insectivore=\"blue\", Omnivore=\"gray45\")) +\n",
    "  scale_fill_manual(name=\"Feeding Guild\", values=c(Carnivore=\"yellow3\", \n",
    "              Granivore=\"tomato2\", Insectivore=\"dodgerblue2\", Omnivore=\"gray\")) +\n",
    "  scale_linetype_manual(name=\"Feeding Guild\", values=c(Carnivore=\"solid\", \n",
    "             Granivore=\"twodash\", Insectivore=\"dotdash\", Omnivore=\"dotted\")) +\n",
    "  theme_bw() +\n",
    "  xlab(\"Landscape heterogeneity (Perennial habitat diversity)\") +\n",
    "  ylab(\"Functional group richness\") +\n",
    "  scale_x_continuous(breaks = round(seq(min(0), max(1.3), by = 0.2),1)) +\n",
    "  theme(panel.grid.minor=element_blank(),\n",
    "        panel.grid.major=element_blank()) +\n",
    "  geom_text(x = 1.25, y = 21.5, label = \"2000m\", show.legend = FALSE)"
   ]
  },
  {
   "cell_type": "code",
   "execution_count": null,
   "metadata": {},
   "outputs": [],
   "source": []
  }
 ],
 "metadata": {
  "kernelspec": {
   "display_name": "R",
   "language": "R",
   "name": "ir"
  },
  "language_info": {
   "codemirror_mode": "r",
   "file_extension": ".r",
   "mimetype": "text/x-r-source",
   "name": "R",
   "pygments_lexer": "r",
   "version": "3.4.4"
  }
 },
 "nbformat": 4,
 "nbformat_minor": 2
}
